{
 "cells": [
  {
   "cell_type": "markdown",
   "metadata": {},
   "source": [
    "10 Minutes to pandas\n",
    "======================\n",
    "\n",
    "import\n",
    "\n",
    "```python\n",
    "import pandas as pd\n",
    "import numpy as np\n",
    "import matplotlib.pyplot as plt\n",
    "```\n",
    "\n",
    "Inline `code` has `back-ticks around` it.\n"
   ]
  },
  {
   "cell_type": "code",
   "execution_count": null,
   "metadata": {},
   "outputs": [],
   "source": [
    "import pandas as pd\n",
    "import numpy as np\n",
    "import matplotlib.pyplot as plt\n",
    "\n",
    "s = pd.Series([1, 2, 3, np.nan, 6, 9, 8])\n",
    "s"
   ]
  },
  {
   "cell_type": "code",
   "execution_count": null,
   "metadata": {},
   "outputs": [],
   "source": [
    "dates = pd.date_range('20170608', periods=6)\n",
    "dates"
   ]
  },
  {
   "cell_type": "code",
   "execution_count": null,
   "metadata": {},
   "outputs": [],
   "source": [
    "np.random.randn(6,4)"
   ]
  },
  {
   "cell_type": "code",
   "execution_count": null,
   "metadata": {
    "scrolled": true
   },
   "outputs": [],
   "source": [
    "df = pd.DataFrame(np.random.randn(6,4), index=dates, columns=list('ABCD'))\n",
    "df"
   ]
  },
  {
   "cell_type": "code",
   "execution_count": null,
   "metadata": {},
   "outputs": [],
   "source": [
    "df2 = pd.DataFrame({'A':1,\n",
    "                    'B':pd.Timestamp('20170608'),\n",
    "                    'C':pd.Series(1, index=list(range(4)), dtype='float32'),\n",
    "                    'D':np.array([3]*4, dtype='int32'),\n",
    "                    'E':pd.Categorical([\"test\",'foo', 'bar','shi']),\n",
    "                    'F':'string'\n",
    "                   })\n",
    "print df2\n",
    "\n",
    "print df2.dtypes\n",
    "df2.\n"
   ]
  },
  {
   "cell_type": "markdown",
   "metadata": {},
   "source": [
    "Inline `code` has `back-ticks around` it.\n"
   ]
  },
  {
   "cell_type": "code",
   "execution_count": null,
   "metadata": {},
   "outputs": [],
   "source": [
    "import pandas as pd\n",
    "import numpy as np\n",
    "import matplotlib.pyplot as plt\n",
    "np.random.seed(1)\n",
    "\n",
    "year = [1992, 1993, 1994,  1996, 1997, 1998, 1999, 2000, 2001, 2002, 2003, 2004, 2005, 2006, 2007, 2008, 2009, 2010, 2011, 2012, 2013, 2014]\n",
    "value = np.random.rand(22)\n",
    "\n",
    "ser =  pd.Series(index = year,data=value)\n",
    "df =ser.to_frame()\n",
    "\n",
    "df.reset_index(inplace=True)\n",
    "df.columns = ['year','value']\n",
    "df.plot(kind='scatter',x='year',y='value')\n",
    "plt.show()"
   ]
  },
  {
   "cell_type": "code",
   "execution_count": null,
   "metadata": {},
   "outputs": [],
   "source": [
    "import pandas as pd\n",
    "import numpy as np\n",
    "import matplotlib.pyplot as plt\n",
    "\n",
    "dots = [\n",
    "        [1,2],\n",
    "        [2,1],\n",
    "        [4,3],\n",
    "        [5,1]\n",
    "       ]\n",
    "\n",
    "labels = ['A','A','B','C']\n",
    "df = pd.DataFrame(dots)\n",
    "\n",
    "s = pd.Series(index=df[0].values, data=df[1].values)\n",
    "\n",
    "df3 = s.to_frame()\n",
    "print df3\n",
    "df3.reset_index(inplace=True)\n",
    "print df3\n",
    "df3.columns = ['x','y']\n",
    "df3.plot(kind='scatter',x='x',y='y')\n",
    "plt.show()\n"
   ]
  },
  {
   "cell_type": "code",
   "execution_count": null,
   "metadata": {},
   "outputs": [],
   "source": [
    "import pandas as pd\n",
    "import numpy as np\n",
    "import matplotlib.pyplot as plt\n",
    "\n",
    "dots = [\n",
    "        [1,2],\n",
    "        [2,1],\n",
    "        [4,3],\n",
    "        [5,1]\n",
    "       ]\n",
    "\n",
    "df = pd.DataFrame(data=dots, columns=['x', 'y'])\n",
    "\n",
    "df.plot(kind='scatter',x='x',y='y')\n",
    "plt.show()"
   ]
  }
 ],
 "metadata": {
  "kernelspec": {
   "display_name": "Python 2",
   "language": "python",
   "name": "python2"
  },
  "language_info": {
   "codemirror_mode": {
    "name": "ipython",
    "version": 2
   },
   "file_extension": ".py",
   "mimetype": "text/x-python",
   "name": "python",
   "nbconvert_exporter": "python",
   "pygments_lexer": "ipython2",
   "version": "2.7.13"
  }
 },
 "nbformat": 4,
 "nbformat_minor": 2
}
