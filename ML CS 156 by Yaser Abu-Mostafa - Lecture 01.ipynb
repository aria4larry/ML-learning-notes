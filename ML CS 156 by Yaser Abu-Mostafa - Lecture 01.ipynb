{
 "cells": [
  {
   "cell_type": "markdown",
   "metadata": {},
   "source": [
    "ML CS 156 by Yaser Abu-Mostafa - Lecture 01\n",
    "====\n",
    "\n",
    "## Componets of learning\n",
    "Formalization:\n",
    "*  Input: x (customer application)\n",
    "*  Output: Y \n",
    "*  Target function: f: x -> y\n",
    "*  Data: (x1, y1), (x2, y2), ..., (xn,yn)\n",
    "*  Hypothesis: g: x -> y\n",
    "\n",
    "![thewholepicture](ML-CS156-lesson1-pic1.jpg)\n"
   ]
  }
 ],
 "metadata": {
  "kernelspec": {
   "display_name": "Python 2",
   "language": "python",
   "name": "python2"
  },
  "language_info": {
   "codemirror_mode": {
    "name": "ipython",
    "version": 2
   },
   "file_extension": ".py",
   "mimetype": "text/x-python",
   "name": "python",
   "nbconvert_exporter": "python",
   "pygments_lexer": "ipython2",
   "version": "2.7.13"
  }
 },
 "nbformat": 4,
 "nbformat_minor": 2
}
